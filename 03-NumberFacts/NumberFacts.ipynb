{
 "cells": [
  {
   "cell_type": "code",
   "execution_count": 2,
   "metadata": {},
   "outputs": [],
   "source": [
    "# importing dependencies\n",
    "import requests\n",
    "import json"
   ]
  },
  {
   "cell_type": "code",
   "execution_count": 15,
   "metadata": {},
   "outputs": [],
   "source": [
    "# Base URL for GET requests to retrieve number/date facts\n",
    "url = \"http://numbersapi.com/\""
   ]
  },
  {
   "cell_type": "code",
   "execution_count": 39,
   "metadata": {},
   "outputs": [
    {
     "name": "stdout",
     "output_type": "stream",
     "text": [
      "What type of search would you like (trivia, math, date, year)? \n",
      "date\n"
     ]
    }
   ],
   "source": [
    "# asks the user what kind of data they would like to search for\n",
    "search_type = input(\"What type of search would you like (trivia, math, date, year)? \\n\")"
   ]
  },
  {
   "cell_type": "code",
   "execution_count": 35,
   "metadata": {},
   "outputs": [
    {
     "name": "stdout",
     "output_type": "stream",
     "text": [
      "Do you want to enter a number? \n",
      "yes\n"
     ]
    }
   ],
   "source": [
    "# asks users if they want to specify a number\n",
    "input_number = input(\"Do you want to enter a number? \\n\")"
   ]
  },
  {
   "cell_type": "code",
   "execution_count": 40,
   "metadata": {},
   "outputs": [
    {
     "name": "stdout",
     "output_type": "stream",
     "text": [
      "Please enter a month: \n",
      "7\n",
      "Please enter a day: \n",
      "11\n",
      "July 11th is the day in 1796 that the United States takes possession of Detroit from Great Britain under terms of the Jay Treaty.\n"
     ]
    }
   ],
   "source": [
    "# returns fact with entered number or \n",
    "# returns a random fact based on the type specified above if no number is entered\n",
    "if input_number.lower() == \"yes\":\n",
    "    if search_type == \"date\":\n",
    "        month = input(\"Please enter a month: \\n\")\n",
    "        day = input(\"Please enter a day: \\n\")\n",
    "        search_url = f\"{url}{month}/{day}/{search_type}?json\"\n",
    "        response = requests.get(search_url).json()\n",
    "        print(response[\"text\"])\n",
    "    else:\n",
    "        number = input(\"What number (or date) would you like to use? \\n\")\n",
    "        search_url = url + number + \"/\" + search_type + \"?json\"\n",
    "        response = requests.get(search_url).json()\n",
    "        print(response[\"text\"])\n",
    "else:\n",
    "    search_url = url + \"random/\" + search_type + \"?json\"\n",
    "    response = requests.get(search_url).json()\n",
    "    print(response[\"text\"])"
   ]
  }
 ],
 "metadata": {
  "kernelspec": {
   "display_name": "Python 3",
   "language": "python",
   "name": "python3"
  },
  "language_info": {
   "codemirror_mode": {
    "name": "ipython",
    "version": 3
   },
   "file_extension": ".py",
   "mimetype": "text/x-python",
   "name": "python",
   "nbconvert_exporter": "python",
   "pygments_lexer": "ipython3",
   "version": "3.8.5"
  },
  "varInspector": {
   "cols": {
    "lenName": 16,
    "lenType": 16,
    "lenVar": 40
   },
   "kernels_config": {
    "python": {
     "delete_cmd_postfix": "",
     "delete_cmd_prefix": "del ",
     "library": "var_list.py",
     "varRefreshCmd": "print(var_dic_list())"
    },
    "r": {
     "delete_cmd_postfix": ") ",
     "delete_cmd_prefix": "rm(",
     "library": "var_list.r",
     "varRefreshCmd": "cat(var_dic_list()) "
    }
   },
   "types_to_exclude": [
    "module",
    "function",
    "builtin_function_or_method",
    "instance",
    "_Feature"
   ],
   "window_display": false
  }
 },
 "nbformat": 4,
 "nbformat_minor": 2
}
