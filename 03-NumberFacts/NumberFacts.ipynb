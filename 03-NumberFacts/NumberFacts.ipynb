{
 "cells": [
  {
   "cell_type": "code",
   "execution_count": 2,
   "metadata": {},
   "outputs": [],
   "source": [
    "# importing dependencies\n",
    "import requests\n",
    "import json"
   ]
  },
  {
   "cell_type": "code",
   "execution_count": 15,
   "metadata": {},
   "outputs": [],
   "source": [
    "# Base URL for GET requests to retrieve number/date facts\n",
    "url = \"http://numbersapi.com/\""
   ]
  },
  {
   "cell_type": "code",
   "execution_count": 22,
   "metadata": {},
   "outputs": [
    {
     "name": "stdout",
     "output_type": "stream",
     "text": [
      "What type of search would you like (trivia, math, date, year)? \n",
      "trivia\n"
     ]
    }
   ],
   "source": [
    "# asks the user what kind of data they would like to search for\n",
    "search_type = input(\"What type of search would you like (trivia, math, date, year)? \\n\")"
   ]
  },
  {
   "cell_type": "code",
   "execution_count": 26,
   "metadata": {},
   "outputs": [
    {
     "name": "stdout",
     "output_type": "stream",
     "text": [
      "Do you want to enter a number? \n",
      "yes\n"
     ]
    }
   ],
   "source": [
    "# asks users if they want to specify a number\n",
    "input_number = input(\"Do you want to enter a number? \\n\")"
   ]
  },
  {
   "cell_type": "code",
   "execution_count": 28,
   "metadata": {},
   "outputs": [
    {
     "name": "stdout",
     "output_type": "stream",
     "text": [
      "What number (or date) would you like to use? \n",
      "11\n",
      "11 is the number of sides on the Canadian one-dollar coin (a hendecagon, an eleven-sided polygon).\n"
     ]
    }
   ],
   "source": [
    "# returns fact with entered number or \n",
    "# returns a random fact based on the type specified above if no number is entered\n",
    "if input_number.lower() == \"yes\":\n",
    "    number = input(\"What number (or date) would you like to use? \\n\")\n",
    "    search_url = url + number + \"/\" + search_type + \"?json\"\n",
    "    response = requests.get(search_url).json()\n",
    "    print(response[\"text\"])\n",
    "else:\n",
    "    search_url = url + \"random/\" + search_type + \"?json\"\n",
    "    response = requests.get(search_url).json()\n",
    "    print(response[\"text\"])"
   ]
  }
 ],
 "metadata": {
  "kernelspec": {
   "display_name": "Python 3",
   "language": "python",
   "name": "python3"
  },
  "language_info": {
   "codemirror_mode": {
    "name": "ipython",
    "version": 3
   },
   "file_extension": ".py",
   "mimetype": "text/x-python",
   "name": "python",
   "nbconvert_exporter": "python",
   "pygments_lexer": "ipython3",
   "version": "3.8.5"
  },
  "varInspector": {
   "cols": {
    "lenName": 16,
    "lenType": 16,
    "lenVar": 40
   },
   "kernels_config": {
    "python": {
     "delete_cmd_postfix": "",
     "delete_cmd_prefix": "del ",
     "library": "var_list.py",
     "varRefreshCmd": "print(var_dic_list())"
    },
    "r": {
     "delete_cmd_postfix": ") ",
     "delete_cmd_prefix": "rm(",
     "library": "var_list.r",
     "varRefreshCmd": "cat(var_dic_list()) "
    }
   },
   "types_to_exclude": [
    "module",
    "function",
    "builtin_function_or_method",
    "instance",
    "_Feature"
   ],
   "window_display": false
  }
 },
 "nbformat": 4,
 "nbformat_minor": 2
}
