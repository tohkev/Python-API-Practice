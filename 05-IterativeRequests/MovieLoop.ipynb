{
 "cells": [
  {
   "cell_type": "code",
   "execution_count": 6,
   "metadata": {},
   "outputs": [],
   "source": [
    "# Dependencies\n",
    "import requests\n",
    "from config import api_key"
   ]
  },
  {
   "cell_type": "code",
   "execution_count": 7,
   "metadata": {},
   "outputs": [],
   "source": [
    "url = \"http://www.omdbapi.com/?apikey=\" + api_key + \"&t=\"\n",
    "\n",
    "movies = [\"21 Jump Street\", \"Rush Hour\", \"Frozen\"]\n",
    "\n",
    "responses = []"
   ]
  },
  {
   "cell_type": "code",
   "execution_count": 8,
   "metadata": {},
   "outputs": [],
   "source": [
    "for x in movies:\n",
    "    response = requests.get(url + x).json()\n",
    "    responses.append(response)"
   ]
  },
  {
   "cell_type": "code",
   "execution_count": 9,
   "metadata": {},
   "outputs": [
    {
     "data": {
      "text/plain": [
       "[{'Title': '21 Jump Street',\n",
       "  'Year': '2012',\n",
       "  'Rated': 'R',\n",
       "  'Released': '16 Mar 2012',\n",
       "  'Runtime': '109 min',\n",
       "  'Genre': 'Action, Comedy, Crime',\n",
       "  'Director': 'Phil Lord, Christopher Miller',\n",
       "  'Writer': 'Michael Bacall, Jonah Hill, Patrick Hasburgh',\n",
       "  'Actors': 'Jonah Hill, Channing Tatum, Ice Cube',\n",
       "  'Plot': 'A pair of underachieving cops are sent back to a local high school to blend in and bring down a synthetic drug ring.',\n",
       "  'Language': 'English',\n",
       "  'Country': 'United States',\n",
       "  'Awards': '11 wins & 21 nominations',\n",
       "  'Poster': 'https://m.media-amazon.com/images/M/MV5BNTZjNzRjMTMtZDMzNy00Y2ZjLTg0OTAtZjVhNzYyZmJjOTljXkEyXkFqcGdeQXVyODE5NzE3OTE@._V1_SX300.jpg',\n",
       "  'Ratings': [{'Source': 'Internet Movie Database', 'Value': '7.2/10'},\n",
       "   {'Source': 'Rotten Tomatoes', 'Value': '85%'},\n",
       "   {'Source': 'Metacritic', 'Value': '69/100'}],\n",
       "  'Metascore': '69',\n",
       "  'imdbRating': '7.2',\n",
       "  'imdbVotes': '520,292',\n",
       "  'imdbID': 'tt1232829',\n",
       "  'Type': 'movie',\n",
       "  'DVD': '04 Feb 2014',\n",
       "  'BoxOffice': '$138,447,667',\n",
       "  'Production': 'Original Film, SJC Studios',\n",
       "  'Website': 'N/A',\n",
       "  'Response': 'True'},\n",
       " {'Title': 'Rush Hour',\n",
       "  'Year': '1998',\n",
       "  'Rated': 'PG-13',\n",
       "  'Released': '18 Sep 1998',\n",
       "  'Runtime': '98 min',\n",
       "  'Genre': 'Action, Comedy, Crime',\n",
       "  'Director': 'Brett Ratner',\n",
       "  'Writer': 'Ross LaManna, Jim Kouf',\n",
       "  'Actors': 'Jackie Chan, Chris Tucker, Ken Leung',\n",
       "  'Plot': \"A loyal and dedicated Hong Kong Inspector teams up with a reckless and loudmouthed L.A.P.D. detective to rescue the Chinese Consul's kidnapped daughter, while trying to arrest a dangerous crime lord along the way.\",\n",
       "  'Language': 'English, Cantonese, Mandarin',\n",
       "  'Country': 'United States',\n",
       "  'Awards': '6 wins & 9 nominations',\n",
       "  'Poster': 'https://m.media-amazon.com/images/M/MV5BYWM2NDZmYmYtNzlmZC00M2MyLWJmOGUtMjhiYmQ2OGU1YTE1L2ltYWdlL2ltYWdlXkEyXkFqcGdeQXVyMTQxNzMzNDI@._V1_SX300.jpg',\n",
       "  'Ratings': [{'Source': 'Internet Movie Database', 'Value': '7.0/10'},\n",
       "   {'Source': 'Rotten Tomatoes', 'Value': '61%'},\n",
       "   {'Source': 'Metacritic', 'Value': '60/100'}],\n",
       "  'Metascore': '60',\n",
       "  'imdbRating': '7.0',\n",
       "  'imdbVotes': '245,686',\n",
       "  'imdbID': 'tt0120812',\n",
       "  'Type': 'movie',\n",
       "  'DVD': '18 Jul 2008',\n",
       "  'BoxOffice': '$141,186,864',\n",
       "  'Production': 'New Line Cinema, Roger Birnbaum Productions',\n",
       "  'Website': 'N/A',\n",
       "  'Response': 'True'},\n",
       " {'Title': 'Frozen',\n",
       "  'Year': '2013',\n",
       "  'Rated': 'PG',\n",
       "  'Released': '27 Nov 2013',\n",
       "  'Runtime': '102 min',\n",
       "  'Genre': 'Animation, Adventure, Comedy, Family, Fantasy, Musical',\n",
       "  'Director': 'Chris Buck, Jennifer Lee',\n",
       "  'Writer': 'Jennifer Lee (screenplay by), Hans Christian Andersen (story inspired by: \"The Snow Queen\" by), Chris Buck (story by), Jennifer Lee (story by), Shane Morris (story by)',\n",
       "  'Actors': 'Kristen Bell, Idina Menzel, Jonathan Groff, Josh Gad',\n",
       "  'Plot': 'When the newly crowned Queen Elsa accidentally uses her power to turn things into ice to curse her home in infinite winter, her sister Anna teams up with a mountain man, his playful reindeer, and a snowman to change the weather condition.',\n",
       "  'Language': 'English, Norwegian',\n",
       "  'Country': 'USA, Norway',\n",
       "  'Awards': 'Won 2 Oscars. Another 79 wins & 60 nominations.',\n",
       "  'Poster': 'https://m.media-amazon.com/images/M/MV5BMTQ1MjQwMTE5OF5BMl5BanBnXkFtZTgwNjk3MTcyMDE@._V1_SX300.jpg',\n",
       "  'Ratings': [{'Source': 'Internet Movie Database', 'Value': '7.4/10'},\n",
       "   {'Source': 'Rotten Tomatoes', 'Value': '90%'},\n",
       "   {'Source': 'Metacritic', 'Value': '75/100'}],\n",
       "  'Metascore': '75',\n",
       "  'imdbRating': '7.4',\n",
       "  'imdbVotes': '582,632',\n",
       "  'imdbID': 'tt2294629',\n",
       "  'Type': 'movie',\n",
       "  'DVD': '15 Nov 2015',\n",
       "  'BoxOffice': '$400,953,009',\n",
       "  'Production': 'Walt Disney Animation',\n",
       "  'Website': 'N/A',\n",
       "  'Response': 'True'}]"
      ]
     },
     "execution_count": 9,
     "metadata": {},
     "output_type": "execute_result"
    }
   ],
   "source": [
    "responses"
   ]
  },
  {
   "cell_type": "code",
   "execution_count": null,
   "metadata": {},
   "outputs": [],
   "source": []
  }
 ],
 "metadata": {
  "kernelspec": {
   "display_name": "Python 3",
   "language": "python",
   "name": "python3"
  },
  "language_info": {
   "codemirror_mode": {
    "name": "ipython",
    "version": 3
   },
   "file_extension": ".py",
   "mimetype": "text/x-python",
   "name": "python",
   "nbconvert_exporter": "python",
   "pygments_lexer": "ipython3",
   "version": "3.8.5"
  },
  "varInspector": {
   "cols": {
    "lenName": 16,
    "lenType": 16,
    "lenVar": 40
   },
   "kernels_config": {
    "python": {
     "delete_cmd_postfix": "",
     "delete_cmd_prefix": "del ",
     "library": "var_list.py",
     "varRefreshCmd": "print(var_dic_list())"
    },
    "r": {
     "delete_cmd_postfix": ") ",
     "delete_cmd_prefix": "rm(",
     "library": "var_list.r",
     "varRefreshCmd": "cat(var_dic_list()) "
    }
   },
   "types_to_exclude": [
    "module",
    "function",
    "builtin_function_or_method",
    "instance",
    "_Feature"
   ],
   "window_display": false
  }
 },
 "nbformat": 4,
 "nbformat_minor": 2
}
